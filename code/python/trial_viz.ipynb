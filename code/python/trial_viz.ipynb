{
 "cells": [
  {
   "cell_type": "code",
   "execution_count": 7,
   "metadata": {},
   "outputs": [],
   "source": [
    "import numpy as np\n",
    "from scipy.io import loadmat\n",
    "from scipy.signal import filtfilt, butter\n",
    "\n",
    "from pathlib import Path\n",
    "from re import match\n",
    "from datetime import datetime\n",
    "\n",
    "import plotly.graph_objs as go\n",
    "import ipywidgets as widgets\n",
    "from IPython.display import display\n",
    "\n",
    "from config import config\n",
    "data_dir, _, _ = config()\n",
    "data_dir /= 'trial_viz'"
   ]
  },
  {
   "cell_type": "code",
   "execution_count": 12,
   "metadata": {
    "scrolled": false
   },
   "outputs": [
    {
     "data": {
      "application/vnd.jupyter.widget-view+json": {
       "model_id": "7b63ce80eb0b49c790a47de3ffed7262",
       "version_major": 2,
       "version_minor": 0
      },
      "text/plain": [
       "Dropdown(description='Monkey:', index=1, options=('Zorin', 'Jaws'), value='Jaws')"
      ]
     },
     "metadata": {},
     "output_type": "display_data"
    },
    {
     "data": {
      "application/vnd.jupyter.widget-view+json": {
       "model_id": "b068bf0a2ca341a890b5ad6fcfaeb08f",
       "version_major": 2,
       "version_minor": 0
      },
      "text/plain": [
       "Dropdown(description='Date:', options=(datetime.date(2013, 5, 1), datetime.date(2013, 5, 2), datetime.date(201…"
      ]
     },
     "metadata": {},
     "output_type": "display_data"
    },
    {
     "data": {
      "application/vnd.jupyter.widget-view+json": {
       "model_id": "458612d0192c4bb7bdb19b546eceb9b5",
       "version_major": 2,
       "version_minor": 0
      },
      "text/plain": [
       "IntSlider(value=1, description='Trial number:', max=676, min=1)"
      ]
     },
     "metadata": {},
     "output_type": "display_data"
    },
    {
     "data": {
      "application/vnd.jupyter.widget-view+json": {
       "model_id": "ff6e304635ac4484bead76b1db216905",
       "version_major": 2,
       "version_minor": 0
      },
      "text/plain": [
       "Button(description='Previous', style=ButtonStyle())"
      ]
     },
     "metadata": {},
     "output_type": "display_data"
    },
    {
     "data": {
      "application/vnd.jupyter.widget-view+json": {
       "model_id": "80224281f6bd45d4b998a0fb1b27eb79",
       "version_major": 2,
       "version_minor": 0
      },
      "text/plain": [
       "Button(description='Next', style=ButtonStyle())"
      ]
     },
     "metadata": {},
     "output_type": "display_data"
    },
    {
     "data": {
      "application/vnd.jupyter.widget-view+json": {
       "model_id": "9145cae837fb4b56a80b35ac2df705e3",
       "version_major": 2,
       "version_minor": 0
      },
      "text/plain": [
       "FigureWidget({\n",
       "    'data': [{'line': {'color': 'black', 'width': 2},\n",
       "              'mode': 'lines',\n",
       "          …"
      ]
     },
     "metadata": {},
     "output_type": "display_data"
    }
   ],
   "source": [
    "def spike_train(spikes: [float], offset, line_height=50):\n",
    "    return [go.Scatter(x = [s, s], y = [offset, offset+line_height], mode = 'lines', line=dict(color='grey', width=1)) for s in spikes]\n",
    "    \n",
    "def lfp_trace(lfp):\n",
    "    return [go.Scatter(x = np.arange(0, len(lfp))/1000, y = lfp, mode = 'lines', line=dict(color='black', width=2))]\n",
    "\n",
    "def trial_events(events, offset, line_height=100):\n",
    "    color_map = {'fixate': 'red', \n",
    "                'noise': 'green',\n",
    "                'shape': 'blue',\n",
    "                'saccade': 'purple'}\n",
    "    return [go.Scatter(x = [v,v], \n",
    "                       y = [offset, offset+line_height], \n",
    "                       mode = 'lines', \n",
    "                       line = dict(color=color_map[k])) for k,v in events.items() if v]\n",
    "\n",
    "def get_dates(monkey_name):\n",
    "    files = sorted(Path(data_dir).glob(f'*{monkey_name.lower()}.mat'))\n",
    "    date_matches = [match(r'(\\d+-\\d+-\\d+)', str(f.name)) for f in files]\n",
    "    return {datetime.strptime(d.group(0), '%Y-%m-%d').date(): files[i] \n",
    "            for i, d in enumerate(date_matches) if d}  \n",
    "\n",
    "def load_day(date_file):\n",
    "    mat = loadmat(date_file)\n",
    "    N = len(mat['num'])\n",
    "    lfps = [lfp[0].reshape(-1) for lfp in mat['lfp']]\n",
    "    spikes = [s[0].reshape(-1) for s in mat['spikes']]\n",
    "    event_names = mat['events'].dtype.names\n",
    "    events = {event_name: mat['events'][event_name][0][0].reshape(-1) for event_name in event_names}\n",
    "    b, a = butter(8, 0.2) # 8th order butterworth, 0.2 * 500 = 100 Hz lowpass\n",
    "    return [{'lfp': lfps[i], #filtfilt(b, a, lfps[i]),\n",
    "           'spikes': spikes[i],\n",
    "           'events': {name: events[name][i] for name in event_names}} for i in range(N)]\n",
    "\n",
    "\n",
    "monkey_name = 'Jaws'\n",
    "day_data = []\n",
    "fig = go.FigureWidget(layout=go.Layout(showlegend=False,\n",
    "                                       xaxis=dict(showgrid=False),\n",
    "                                       yaxis=dict(showgrid=False)))\n",
    "\n",
    "def update_monkey_name(change):\n",
    "    global monkey_name\n",
    "    monkey_name = change['new'] or change['old']\n",
    "\n",
    "def update_day_data(change):\n",
    "    global day_data\n",
    "    day = change['new'] or change['owner'].options[0]\n",
    "    day_data = load_day(get_dates(monkey_name)[day])\n",
    "    \n",
    "def display_trial(change):\n",
    "    trial_num = change['new'] or change['old']\n",
    "    raw = day_data[trial_num-1]\n",
    "    max_lfp, min_lfp = max(raw['lfp']), min(raw['lfp'])\n",
    "    lfp_bound = max(abs(min_lfp), abs(max_lfp))\n",
    "    spike_offset = lfp_bound * 1.1\n",
    "\n",
    "    data = []\n",
    "#     for i,spike in enumerate(raw['spikes']):\n",
    "#         data.extend(spike_train(spike, spike_offset+i*100, line_height=100))\n",
    "    data.extend(lfp_trace(raw['lfp']))\n",
    "    data.extend(trial_events(raw['events'], offset=-lfp_bound, line_height=lfp_bound*2))\n",
    "    fig.data = []\n",
    "    fig.add_traces(data)\n",
    "\n",
    "monkey_selector = widgets.Dropdown(options = ['Zorin', 'Jaws'],\n",
    "                                  value = 'Jaws',\n",
    "                                  description = 'Monkey:')\n",
    "monkey_selector.observe(update_monkey_name, names='value')\n",
    "update_monkey_name({'new': monkey_selector.value})\n",
    "\n",
    "date_selector = widgets.Dropdown(description = 'Date:')\n",
    "widgets.dlink((monkey_selector, 'value'), (date_selector, 'options'), lambda name: get_dates(name).keys())\n",
    "widgets.dlink((monkey_selector, 'value'), (date_selector, 'value'), lambda name: list(get_dates(name).keys())[0])\n",
    "date_selector.observe(update_day_data, names='value')\n",
    "update_day_data({'new': date_selector.value})\n",
    "\n",
    "trial_selector = widgets.IntSlider(description = 'Trial number:', min=1, max=len(day_data))\n",
    "widgets.dlink((date_selector, 'value'), (trial_selector, 'value'), lambda day: 1)\n",
    "widgets.dlink((date_selector, 'value'), (trial_selector, 'max'), lambda day: len(day_data))\n",
    "trial_selector.observe(display_trial, names='value')\n",
    "display_trial({'new': trial_selector.value})\n",
    "\n",
    "def update_trial_selector(newval):\n",
    "    trial_selector.value = newval\n",
    "\n",
    "prev_trial = widgets.Button(description='Previous')\n",
    "next_trial = widgets.Button(description='Next')\n",
    "\n",
    "display(monkey_selector)\n",
    "display(date_selector)\n",
    "display(trial_selector)\n",
    "display(prev_trial, next_trial)\n",
    "prev_trial.on_click(lambda b: update_trial_selector(max(1, trial_selector.value - 1)))\n",
    "next_trial.on_click(lambda b: update_trial_selector(max(1, trial_selector.value + 1)))\n",
    "display(fig)"
   ]
  },
  {
   "cell_type": "code",
   "execution_count": 13,
   "metadata": {},
   "outputs": [
    {
     "data": {
      "text/plain": [
       "{'fixate': 'nan', 'noise': 'nan', 'shape': 'nan', 'saccade': 'nan'}"
      ]
     },
     "execution_count": 13,
     "metadata": {},
     "output_type": "execute_result"
    }
   ],
   "source": [
    "def trial_to_str_rep(trial):\n",
    "    lfp = [str(x) for x in trial['lfp'].round(2)]\n",
    "    spikes = [[str(x) for x in unit.reshape(-1)] for unit in trial['spikes']]\n",
    "    events = {k: str(v) for k,v in trial['events'].items()}\n",
    "    return {'lfp': lfp, 'spikes': spikes, 'events': events}\n",
    "\n",
    "trial_to_str_rep(day_data[0])['events']"
   ]
  },
  {
   "cell_type": "code",
   "execution_count": 6,
   "metadata": {},
   "outputs": [
    {
     "data": {
      "text/plain": [
       "[array([2.511], dtype=float32),\n",
       " array([2.507], dtype=float32),\n",
       " array([2.525], dtype=float32),\n",
       " array([2.501], dtype=float32),\n",
       " array([2.402], dtype=float32),\n",
       " array([2.455], dtype=float32),\n",
       " array([2.499], dtype=float32),\n",
       " array([0.815], dtype=float32),\n",
       " array([2.462], dtype=float32),\n",
       " array([2.434], dtype=float32),\n",
       " array([2.539], dtype=float32),\n",
       " array([2.391], dtype=float32)]"
      ]
     },
     "execution_count": 6,
     "metadata": {},
     "output_type": "execute_result"
    }
   ],
   "source": [
    "[x[-1] for x in day_data[0]['spikes']]"
   ]
  }
 ],
 "metadata": {
  "kernelspec": {
   "display_name": "Python 3",
   "language": "python",
   "name": "python3"
  },
  "language_info": {
   "codemirror_mode": {
    "name": "ipython",
    "version": 3
   },
   "file_extension": ".py",
   "mimetype": "text/x-python",
   "name": "python",
   "nbconvert_exporter": "python",
   "pygments_lexer": "ipython3",
   "version": "3.7.0"
  },
  "widgets": {
   "application/vnd.jupyter.widget-state+json": {
    "state": {
     "186a41db819d40c99a5c1351249c21e5": {
      "model_module": "@jupyter-widgets/base",
      "model_module_version": "1.0.0",
      "model_name": "LayoutModel",
      "state": {}
     },
     "1894e79228d447ea8cf0d0eed68a85f5": {
      "model_module": "@jupyter-widgets/base",
      "model_module_version": "1.0.0",
      "model_name": "LayoutModel",
      "state": {}
     },
     "19661edac7bb4fd0a16c8dc4cdbe966d": {
      "model_module": "@jupyter-widgets/controls",
      "model_module_version": "1.2.0",
      "model_name": "IntSliderModel",
      "state": {
       "description": "Trial number:",
       "layout": "IPY_MODEL_e00f4da8d1dc4d1fa8bb21c40e8ffd40",
       "max": 227,
       "min": 1,
       "style": "IPY_MODEL_ac45a3396bd648b5987f7ef4179f09c5",
       "value": 1
      }
     },
     "2e6e0550335f40a3a786c3d4f04f369c": {
      "model_module": "@jupyter-widgets/controls",
      "model_module_version": "1.2.0",
      "model_name": "DropdownModel",
      "state": {
       "_options_labels": [
        "2013-05-01",
        "2013-05-02",
        "2013-05-03",
        "2013-05-07",
        "2013-05-08",
        "2013-05-09",
        "2013-05-11",
        "2013-05-14",
        "2013-05-15",
        "2013-05-16",
        "2013-05-17",
        "2013-05-20",
        "2013-05-21",
        "2013-05-22",
        "2013-05-23",
        "2013-05-24",
        "2013-05-27",
        "2013-05-29",
        "2013-05-30",
        "2013-06-03",
        "2013-06-04",
        "2013-06-05",
        "2013-06-06",
        "2013-06-07",
        "2013-06-10",
        "2013-06-11",
        "2013-06-13",
        "2013-06-14",
        "2013-06-17",
        "2013-06-18",
        "2013-06-19",
        "2013-06-20",
        "2013-06-21",
        "2013-06-24",
        "2013-07-01",
        "2013-07-02",
        "2013-07-03",
        "2013-07-05",
        "2013-07-08",
        "2013-07-09",
        "2013-07-10",
        "2013-07-15",
        "2013-07-16",
        "2013-07-18",
        "2013-07-19"
       ],
       "description": "Date:",
       "index": 0,
       "layout": "IPY_MODEL_1894e79228d447ea8cf0d0eed68a85f5",
       "style": "IPY_MODEL_f3a511676e8542bfb8aeef5f19affca4"
      }
     },
     "44d27cb88c1743a4928e24217c852455": {
      "model_module": "@jupyter-widgets/controls",
      "model_module_version": "1.2.0",
      "model_name": "ButtonModel",
      "state": {
       "description": "Previous",
       "layout": "IPY_MODEL_186a41db819d40c99a5c1351249c21e5",
       "style": "IPY_MODEL_75120c9d73a849af85b4374a23f37e34"
      }
     },
     "481942ec22b84a92945f25a86d202a1e": {
      "model_module": "@jupyter-widgets/base",
      "model_module_version": "1.0.0",
      "model_name": "LayoutModel",
      "state": {}
     },
     "4e048eae481c45daa66c4535f9eadf1e": {
      "model_module": "@jupyter-widgets/base",
      "model_module_version": "1.0.0",
      "model_name": "LayoutModel",
      "state": {}
     },
     "5bd5a24fbc884cbfa3b6a3c6c19539f4": {
      "model_module": "@jupyter-widgets/controls",
      "model_module_version": "1.2.0",
      "model_name": "DropdownModel",
      "state": {
       "_options_labels": [
        "Zorin",
        "Jaws"
       ],
       "description": "Monkey:",
       "index": 1,
       "layout": "IPY_MODEL_481942ec22b84a92945f25a86d202a1e",
       "style": "IPY_MODEL_75d5ffec26604c1ea172673f9d7155ce"
      }
     },
     "709fffe0fc974ecf98c2d42c641be6c8": {
      "model_module": "@jupyter-widgets/controls",
      "model_module_version": "1.2.0",
      "model_name": "ButtonModel",
      "state": {
       "description": "Next",
       "layout": "IPY_MODEL_4e048eae481c45daa66c4535f9eadf1e",
       "style": "IPY_MODEL_b173ac72fd444752bb89b8a6183134f2"
      }
     },
     "75120c9d73a849af85b4374a23f37e34": {
      "model_module": "@jupyter-widgets/controls",
      "model_module_version": "1.2.0",
      "model_name": "ButtonStyleModel",
      "state": {}
     },
     "75d5ffec26604c1ea172673f9d7155ce": {
      "model_module": "@jupyter-widgets/controls",
      "model_module_version": "1.2.0",
      "model_name": "DescriptionStyleModel",
      "state": {
       "description_width": ""
      }
     },
     "8d9429803ccc41f4a77c929f3fe9eaa5": {
      "buffers": [
       {
        "data": "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",
        "encoding": "base64",
        "path": [
         "_data",
         0,
         "x"
        ]
       },
       {
        "data": "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",
        "encoding": "base64",
        "path": [
         "_data",
         0,
         "y"
        ]
       }
      ],
      "model_module": "plotlywidget",
      "model_module_version": "^0.1.1",
      "model_name": "FigureModel",
      "state": {
       "_data": [
        {
         "line": {
          "color": "black",
          "width": 2
         },
         "mode": "lines",
         "type": "scatter",
         "uid": "e6cb34fc-814c-11e8-8948-3c15c2c275fe",
         "x": {},
         "y": {}
        },
        {
         "line": {
          "color": "red"
         },
         "mode": "lines",
         "type": "scatter",
         "uid": "e6cb3a4c-814c-11e8-8948-3c15c2c275fe",
         "x": [
          0.1809999942779541,
          0.1809999942779541
         ],
         "y": [
          -1265.9930315705672,
          1265.9930315705672
         ]
        },
        {
         "line": {
          "color": "green"
         },
         "mode": "lines",
         "type": "scatter",
         "uid": "e6cb3ccc-814c-11e8-8948-3c15c2c275fe",
         "x": [
          0.7609999775886536,
          0.7609999775886536
         ],
         "y": [
          -1265.9930315705672,
          1265.9930315705672
         ]
        },
        {
         "line": {
          "color": "blue"
         },
         "mode": "lines",
         "type": "scatter",
         "uid": "e6cb3f88-814c-11e8-8948-3c15c2c275fe",
         "x": [
          2.374000072479248,
          2.374000072479248
         ],
         "y": [
          -1265.9930315705672,
          1265.9930315705672
         ]
        },
        {
         "line": {
          "color": "purple"
         },
         "mode": "lines",
         "type": "scatter",
         "uid": "e6cb4244-814c-11e8-8948-3c15c2c275fe",
         "x": [
          2.381999969482422,
          2.381999969482422
         ],
         "y": [
          -1265.9930315705672,
          1265.9930315705672
         ]
        }
       ],
       "_js2py_pointsCallback": {},
       "_js2py_relayout": {},
       "_js2py_restyle": {},
       "_js2py_update": {},
       "_last_layout_edit_id": 1,
       "_last_trace_edit_id": 1,
       "_layout": {
        "showlegend": false,
        "xaxis": {
         "showgrid": false
        },
        "yaxis": {
         "showgrid": false
        }
       },
       "_py2js_animate": {},
       "_py2js_deleteTraces": {},
       "_py2js_moveTraces": {},
       "_py2js_relayout": {},
       "_py2js_removeLayoutProps": {},
       "_py2js_removeTraceProps": {},
       "_py2js_restyle": {},
       "_py2js_update": {},
       "_view_count": 1
      }
     },
     "ac45a3396bd648b5987f7ef4179f09c5": {
      "model_module": "@jupyter-widgets/controls",
      "model_module_version": "1.2.0",
      "model_name": "SliderStyleModel",
      "state": {
       "description_width": ""
      }
     },
     "b173ac72fd444752bb89b8a6183134f2": {
      "model_module": "@jupyter-widgets/controls",
      "model_module_version": "1.2.0",
      "model_name": "ButtonStyleModel",
      "state": {}
     },
     "e00f4da8d1dc4d1fa8bb21c40e8ffd40": {
      "model_module": "@jupyter-widgets/base",
      "model_module_version": "1.0.0",
      "model_name": "LayoutModel",
      "state": {}
     },
     "f3a511676e8542bfb8aeef5f19affca4": {
      "model_module": "@jupyter-widgets/controls",
      "model_module_version": "1.2.0",
      "model_name": "DescriptionStyleModel",
      "state": {
       "description_width": ""
      }
     }
    },
    "version_major": 2,
    "version_minor": 0
   }
  }
 },
 "nbformat": 4,
 "nbformat_minor": 2
}
